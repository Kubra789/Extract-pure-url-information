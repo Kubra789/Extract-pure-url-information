{
 "cells": [
  {
   "cell_type": "markdown",
   "id": "09bff130",
   "metadata": {},
   "source": [
    "## How to Check If a String Is a Valid URL in Python"
   ]
  },
  {
   "cell_type": "markdown",
   "id": "5d7097b6",
   "metadata": {},
   "source": [
    "###### Using the 'validators' package\n",
    "\n",
    "The validators package is a tool that comes with a wide range of validation utilities. You can validate all sorts of inputs such as emails, IP addresses, bitcoin addresses and, of course, URLs.The URL validation function is available in the root of the module and will return True if the string is a valid URL, otherwise it returns an instance of ValidationFailure, which is a bit weird but not a deal breaker."
   ]
  },
  {
   "cell_type": "code",
   "execution_count": 3,
   "id": "2045a759",
   "metadata": {},
   "outputs": [
    {
     "name": "stdout",
     "output_type": "stream",
     "text": [
      "Collecting validators\n",
      "  Downloading validators-0.20.0.tar.gz (30 kB)\n",
      "Requirement already satisfied: decorator>=3.4.0 in c:\\users\\emred\\anaconda3\\lib\\site-packages (from validators) (5.1.1)\n",
      "Building wheels for collected packages: validators\n",
      "  Building wheel for validators (setup.py): started\n",
      "  Building wheel for validators (setup.py): finished with status 'done'\n",
      "  Created wheel for validators: filename=validators-0.20.0-py3-none-any.whl size=19582 sha256=2befea97bc480627c5fb3a61d8b5617ba0c367ab16fa0822cc72a1a0fc6e3903\n",
      "  Stored in directory: c:\\users\\emred\\appdata\\local\\pip\\cache\\wheels\\2d\\f0\\a8\\1094fca7a7e5d0d12ff56e0c64675d72aa5cc81a5fc200e849\n",
      "Successfully built validators\n",
      "Installing collected packages: validators\n",
      "Successfully installed validators-0.20.0\n"
     ]
    }
   ],
   "source": [
    "!pip install validators"
   ]
  },
  {
   "cell_type": "code",
   "execution_count": 8,
   "id": "c03b4414",
   "metadata": {},
   "outputs": [
    {
     "data": {
      "text/plain": [
       "True"
      ]
     },
     "execution_count": 8,
     "metadata": {},
     "output_type": "execute_result"
    }
   ],
   "source": [
    "import validators\n",
    "from validators import ValidationFailure\n",
    "validators.url(\"http://localhost:8000\")"
   ]
  },
  {
   "cell_type": "code",
   "execution_count": 9,
   "id": "68910bc3",
   "metadata": {},
   "outputs": [],
   "source": [
    "def is_string_an_url(url_string: str) -> bool:\n",
    "    result = validators.url(url_string)\n",
    "\n",
    "    if isinstance(result, ValidationFailure):\n",
    "        return False\n",
    "    return result"
   ]
  },
  {
   "cell_type": "code",
   "execution_count": 10,
   "id": "a73bcbc6",
   "metadata": {},
   "outputs": [
    {
     "data": {
      "text/plain": [
       "True"
      ]
     },
     "execution_count": 10,
     "metadata": {},
     "output_type": "execute_result"
    }
   ],
   "source": [
    "is_string_an_url(\"http://localhost:8000\")"
   ]
  },
  {
   "cell_type": "code",
   "execution_count": 12,
   "id": "58485b57",
   "metadata": {},
   "outputs": [
    {
     "data": {
      "text/plain": [
       "False"
      ]
     },
     "execution_count": 12,
     "metadata": {},
     "output_type": "execute_result"
    }
   ],
   "source": [
    "# URL has a whitespace at the end\n",
    "url = \"http://localhost:8000 \"\n",
    "is_string_an_url(url)"
   ]
  },
  {
   "cell_type": "code",
   "execution_count": 11,
   "id": "f6fc6dbf",
   "metadata": {},
   "outputs": [
    {
     "data": {
      "text/plain": [
       "False"
      ]
     },
     "execution_count": 11,
     "metadata": {},
     "output_type": "execute_result"
    }
   ],
   "source": [
    "is_string_an_url(\"http://.www.foo.bar/\")"
   ]
  },
  {
   "cell_type": "markdown",
   "id": "e1d34d1c",
   "metadata": {},
   "source": [
    "### Using \"url_normalize\""
   ]
  },
  {
   "cell_type": "markdown",
   "id": "ee95c940",
   "metadata": {},
   "source": [
    "#### Function in Python to clean up and normalize a URL"
   ]
  },
  {
   "cell_type": "code",
   "execution_count": 14,
   "id": "e4bcadf0",
   "metadata": {},
   "outputs": [
    {
     "name": "stdout",
     "output_type": "stream",
     "text": [
      "Collecting url_normalize\n",
      "  Downloading url_normalize-1.4.3-py2.py3-none-any.whl (6.8 kB)\n",
      "Requirement already satisfied: six in c:\\users\\emred\\anaconda3\\lib\\site-packages (from url_normalize) (1.16.0)\n",
      "Installing collected packages: url-normalize\n",
      "Successfully installed url-normalize-1.4.3\n"
     ]
    }
   ],
   "source": [
    "!pip install url_normalize"
   ]
  },
  {
   "cell_type": "code",
   "execution_count": 26,
   "id": "da67317c",
   "metadata": {},
   "outputs": [],
   "source": [
    "from w3lib.url import url_query_cleaner\n",
    "from url_normalize import url_normalize\n",
    "\n",
    "urls = ['example.com',\n",
    "'example.com/',\n",
    "'http://example.com/',\n",
    "'http://example.com',\n",
    "'http://example.com?',\n",
    "'http://example.com/?',\n",
    "'http://example.com//',\n",
    "'http://example.com?utm_source=Google']\n",
    "\n",
    "urls_2= ['https://xcd32112.smart_meter.com',\n",
    "         'https://tXh67.dia_meter.com',\n",
    "         'https://yT5494.smart_meter.com',\n",
    "         'https://RET323_TRucrown.com',\n",
    "         'https://luwr3243.celcius.com'      \n",
    "        ]\n",
    "\n",
    "def canonical_url(u):\n",
    "    u = url_normalize(u)\n",
    "    u = url_query_cleaner(u,parameterlist = ['utm_source','utm_medium','utm_campaign','utm_term','utm_content'],remove=True)\n",
    "\n",
    "\n",
    "    if u.startswith(\"http://\"):\n",
    "        u = u[7:]\n",
    "    if u.startswith(\"https://\"):\n",
    "        u = u[8:]\n",
    "    if u.startswith(\"www.\"):\n",
    "        u = u[4:]\n",
    "    if u.endswith(\"/\"):\n",
    "        u = u[:-1]\n",
    "    \n",
    "    return u\n",
    "\n"
   ]
  },
  {
   "cell_type": "code",
   "execution_count": 25,
   "id": "277afa7e",
   "metadata": {},
   "outputs": [
    {
     "data": {
      "text/plain": [
       "['example.com',\n",
       " 'example.com',\n",
       " 'example.com',\n",
       " 'example.com',\n",
       " 'example.com',\n",
       " 'example.com',\n",
       " 'example.com',\n",
       " 'example.com']"
      ]
     },
     "execution_count": 25,
     "metadata": {},
     "output_type": "execute_result"
    }
   ],
   "source": [
    "list(map(canonical_url,urls))"
   ]
  },
  {
   "cell_type": "code",
   "execution_count": 24,
   "id": "dfca69a0",
   "metadata": {},
   "outputs": [
    {
     "data": {
      "text/plain": [
       "['xcd32112.smart_meter.com',\n",
       " 'txh67.dia_meter.com',\n",
       " 'yt5494.smart_meter.com',\n",
       " 'ret323_trucrown.com',\n",
       " 'luwr3243.celcius.com']"
      ]
     },
     "execution_count": 24,
     "metadata": {},
     "output_type": "execute_result"
    }
   ],
   "source": [
    "list(map(canonical_url,urls_2))"
   ]
  },
  {
   "cell_type": "code",
   "execution_count": null,
   "id": "0acb748e",
   "metadata": {},
   "outputs": [],
   "source": []
  },
  {
   "cell_type": "code",
   "execution_count": null,
   "id": "2538fe50",
   "metadata": {},
   "outputs": [],
   "source": []
  },
  {
   "cell_type": "code",
   "execution_count": null,
   "id": "fb5fe80a",
   "metadata": {},
   "outputs": [],
   "source": []
  },
  {
   "cell_type": "code",
   "execution_count": null,
   "id": "36c3e97d",
   "metadata": {},
   "outputs": [],
   "source": []
  }
 ],
 "metadata": {
  "kernelspec": {
   "display_name": "Python 3 (ipykernel)",
   "language": "python",
   "name": "python3"
  },
  "language_info": {
   "codemirror_mode": {
    "name": "ipython",
    "version": 3
   },
   "file_extension": ".py",
   "mimetype": "text/x-python",
   "name": "python",
   "nbconvert_exporter": "python",
   "pygments_lexer": "ipython3",
   "version": "3.9.12"
  }
 },
 "nbformat": 4,
 "nbformat_minor": 5
}
